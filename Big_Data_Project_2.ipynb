{
  "cells": [
    {
      "cell_type": "code",
      "execution_count": 96,
      "metadata": {
        "id": "9Ie2WXpJjo3_",
        "colab": {
          "base_uri": "https://localhost:8080/"
        },
        "outputId": "78f6f0b0-1b25-4ec8-8540-aaec01bf166b"
      },
      "outputs": [
        {
          "output_type": "stream",
          "name": "stdout",
          "text": [
            "^C\n"
          ]
        }
      ],
      "source": [
        "!apt-get install openjdk-8-jdk-headless -qq > /dev/null\n",
        "!wget -q http://archive.apache.org/dist/spark/spark-3.1.1/spark-3.1.1-bin-hadoop3.2.tgz\n",
        "!tar xf spark-3.1.1-bin-hadoop3.2.tgz\n",
        "!pip install -q findspark\n",
        "\n",
        "import os\n",
        "os.environ[\"JAVA_HOME\"] = \"/usr/lib/jvm/java-8-openjdk-amd64\"\n",
        "os.environ[\"SPARK_HOME\"] = \"/content/spark-3.1.1-bin-hadoop3.2\""
      ]
    },
    {
      "cell_type": "code",
      "execution_count": 86,
      "metadata": {
        "id": "QP-1CzrHjqw7"
      },
      "outputs": [],
      "source": [
        "import findspark\n",
        "findspark.init()"
      ]
    },
    {
      "cell_type": "code",
      "execution_count": 87,
      "metadata": {
        "id": "nt1xHA43vGE1"
      },
      "outputs": [],
      "source": [
        "from pyspark.sql import SparkSession\n",
        "import pyspark.sql.functions as F"
      ]
    },
    {
      "cell_type": "code",
      "execution_count": 88,
      "metadata": {
        "id": "wPSsP3ItjV_8"
      },
      "outputs": [],
      "source": [
        "spark = SparkSession.builder.getOrCreate()"
      ]
    },
    {
      "cell_type": "code",
      "execution_count": 89,
      "metadata": {
        "id": "r_K2Vr-kj1RR"
      },
      "outputs": [],
      "source": [
        "df = spark.read.csv(\"/content/healthcare-dataset-stroke-data.csv\", header=True, inferSchema=True)"
      ]
    },
    {
      "cell_type": "code",
      "execution_count": 90,
      "metadata": {
        "colab": {
          "base_uri": "https://localhost:8080/"
        },
        "id": "VZ9eZbZUkCjH",
        "outputId": "5f2b04c9-4bdc-4df9-e7ff-a39ee7c6d569"
      },
      "outputs": [
        {
          "output_type": "stream",
          "name": "stdout",
          "text": [
            "+-----+------+----+------------+-------------+------------+-------------+--------------+-----------------+----+---------------+------+\n",
            "|   id|gender| age|hypertension|heart_disease|ever_married|    work_type|Residence_type|avg_glucose_level| bmi| smoking_status|stroke|\n",
            "+-----+------+----+------------+-------------+------------+-------------+--------------+-----------------+----+---------------+------+\n",
            "| 9046|  Male|67.0|           0|            1|         Yes|      Private|         Urban|           228.69|36.6|formerly smoked|     1|\n",
            "|51676|Female|61.0|           0|            0|         Yes|Self-employed|         Rural|           202.21| N/A|   never smoked|     1|\n",
            "|31112|  Male|80.0|           0|            1|         Yes|      Private|         Rural|           105.92|32.5|   never smoked|     1|\n",
            "|60182|Female|49.0|           0|            0|         Yes|      Private|         Urban|           171.23|34.4|         smokes|     1|\n",
            "| 1665|Female|79.0|           1|            0|         Yes|Self-employed|         Rural|           174.12|  24|   never smoked|     1|\n",
            "|56669|  Male|81.0|           0|            0|         Yes|      Private|         Urban|           186.21|  29|formerly smoked|     1|\n",
            "|53882|  Male|74.0|           1|            1|         Yes|      Private|         Rural|            70.09|27.4|   never smoked|     1|\n",
            "|10434|Female|69.0|           0|            0|          No|      Private|         Urban|            94.39|22.8|   never smoked|     1|\n",
            "|27419|Female|59.0|           0|            0|         Yes|      Private|         Rural|            76.15| N/A|        Unknown|     1|\n",
            "|60491|Female|78.0|           0|            0|         Yes|      Private|         Urban|            58.57|24.2|        Unknown|     1|\n",
            "|12109|Female|81.0|           1|            0|         Yes|      Private|         Rural|            80.43|29.7|   never smoked|     1|\n",
            "|12095|Female|61.0|           0|            1|         Yes|     Govt_job|         Rural|           120.46|36.8|         smokes|     1|\n",
            "|12175|Female|54.0|           0|            0|         Yes|      Private|         Urban|           104.51|27.3|         smokes|     1|\n",
            "| 8213|  Male|78.0|           0|            1|         Yes|      Private|         Urban|           219.84| N/A|        Unknown|     1|\n",
            "| 5317|Female|79.0|           0|            1|         Yes|      Private|         Urban|           214.09|28.2|   never smoked|     1|\n",
            "|58202|Female|50.0|           1|            0|         Yes|Self-employed|         Rural|           167.41|30.9|   never smoked|     1|\n",
            "|56112|  Male|64.0|           0|            1|         Yes|      Private|         Urban|           191.61|37.5|         smokes|     1|\n",
            "|34120|  Male|75.0|           1|            0|         Yes|      Private|         Urban|           221.29|25.8|         smokes|     1|\n",
            "|27458|Female|60.0|           0|            0|          No|      Private|         Urban|            89.22|37.8|   never smoked|     1|\n",
            "|25226|  Male|57.0|           0|            1|          No|     Govt_job|         Urban|           217.08| N/A|        Unknown|     1|\n",
            "+-----+------+----+------------+-------------+------------+-------------+--------------+-----------------+----+---------------+------+\n",
            "only showing top 20 rows\n",
            "\n"
          ]
        }
      ],
      "source": [
        "df.show()"
      ]
    },
    {
      "cell_type": "code",
      "execution_count": 91,
      "metadata": {
        "colab": {
          "base_uri": "https://localhost:8080/"
        },
        "id": "gQYXdKwKlf8p",
        "outputId": "07c10970-7e08-469c-a6b3-dd35038edeea"
      },
      "outputs": [
        {
          "output_type": "stream",
          "name": "stdout",
          "text": [
            "+------+\n",
            "|stroke|\n",
            "+------+\n",
            "|     1|\n",
            "|     1|\n",
            "|     1|\n",
            "|     1|\n",
            "|     1|\n",
            "|     1|\n",
            "|     1|\n",
            "|     1|\n",
            "|     1|\n",
            "|     1|\n",
            "|     1|\n",
            "|     1|\n",
            "|     1|\n",
            "|     1|\n",
            "|     1|\n",
            "|     1|\n",
            "|     1|\n",
            "|     1|\n",
            "|     1|\n",
            "|     1|\n",
            "+------+\n",
            "only showing top 20 rows\n",
            "\n"
          ]
        }
      ],
      "source": [
        "df.select(\"stroke\").show()"
      ]
    },
    {
      "cell_type": "code",
      "execution_count": 92,
      "metadata": {
        "colab": {
          "base_uri": "https://localhost:8080/"
        },
        "id": "pYbxZbRhnxhk",
        "outputId": "59b5df6a-545a-4b99-94b5-b5f5f6c7f926"
      },
      "outputs": [
        {
          "output_type": "execute_result",
          "data": {
            "text/plain": [
              "5110"
            ]
          },
          "metadata": {},
          "execution_count": 92
        }
      ],
      "source": [
        "df.count()"
      ]
    },
    {
      "cell_type": "code",
      "execution_count": 93,
      "metadata": {
        "colab": {
          "base_uri": "https://localhost:8080/"
        },
        "id": "D2W_DdsMn6ZQ",
        "outputId": "10491d02-5ca9-4d86-c65f-f193ae05fd7a"
      },
      "outputs": [
        {
          "output_type": "execute_result",
          "data": {
            "text/plain": [
              "12"
            ]
          },
          "metadata": {},
          "execution_count": 93
        }
      ],
      "source": [
        "len(df.columns)"
      ]
    },
    {
      "cell_type": "code",
      "execution_count": 94,
      "metadata": {
        "colab": {
          "base_uri": "https://localhost:8080/"
        },
        "id": "wQJFtiDToDCk",
        "outputId": "516c86b6-20c6-4160-b5a4-a542b34fa9e7"
      },
      "outputs": [
        {
          "output_type": "stream",
          "name": "stdout",
          "text": [
            "root\n",
            " |-- id: integer (nullable = true)\n",
            " |-- gender: string (nullable = true)\n",
            " |-- age: double (nullable = true)\n",
            " |-- hypertension: integer (nullable = true)\n",
            " |-- heart_disease: integer (nullable = true)\n",
            " |-- ever_married: string (nullable = true)\n",
            " |-- work_type: string (nullable = true)\n",
            " |-- Residence_type: string (nullable = true)\n",
            " |-- avg_glucose_level: double (nullable = true)\n",
            " |-- bmi: string (nullable = true)\n",
            " |-- smoking_status: string (nullable = true)\n",
            " |-- stroke: integer (nullable = true)\n",
            "\n"
          ]
        }
      ],
      "source": [
        "df.printSchema()"
      ]
    },
    {
      "cell_type": "code",
      "execution_count": 95,
      "metadata": {
        "colab": {
          "base_uri": "https://localhost:8080/"
        },
        "id": "yJZPL1fVoGhB",
        "outputId": "63347427-31e4-47c7-f267-1f4295106c9e"
      },
      "outputs": [
        {
          "output_type": "stream",
          "name": "stdout",
          "text": [
            "+------+-----+\n",
            "|stroke|count|\n",
            "+------+-----+\n",
            "|     1|  249|\n",
            "|     0| 4861|\n",
            "+------+-----+\n",
            "\n"
          ]
        }
      ],
      "source": [
        "df.groupBy(\"stroke\").count().show()"
      ]
    },
    {
      "cell_type": "code",
      "source": [
        "df.groupBy(\"age\").count().show()"
      ],
      "metadata": {
        "colab": {
          "base_uri": "https://localhost:8080/"
        },
        "id": "dT0j3uJvPfpg",
        "outputId": "ab935b16-fd31-4e7e-d9cb-666fcc9b9235"
      },
      "execution_count": 97,
      "outputs": [
        {
          "output_type": "stream",
          "name": "stdout",
          "text": [
            "+----+-----+\n",
            "| age|count|\n",
            "+----+-----+\n",
            "|67.0|   49|\n",
            "|70.0|   45|\n",
            "| 8.0|   58|\n",
            "|69.0|   54|\n",
            "| 7.0|   32|\n",
            "|1.16|    4|\n",
            "|0.16|    3|\n",
            "|1.08|    8|\n",
            "|1.72|    6|\n",
            "|49.0|   79|\n",
            "| 1.4|    3|\n",
            "|0.72|    5|\n",
            "|29.0|   51|\n",
            "|64.0|   53|\n",
            "|75.0|   53|\n",
            "|0.24|    5|\n",
            "|47.0|   75|\n",
            "|42.0|   71|\n",
            "|44.0|   75|\n",
            "|35.0|   54|\n",
            "+----+-----+\n",
            "only showing top 20 rows\n",
            "\n"
          ]
        }
      ]
    },
    {
      "cell_type": "code",
      "source": [
        "df.groupBy(\"gender\").count().show()"
      ],
      "metadata": {
        "colab": {
          "base_uri": "https://localhost:8080/"
        },
        "id": "UXrKox66QAaW",
        "outputId": "3c0abf5c-5653-4fff-8a86-f54cace87c19"
      },
      "execution_count": 98,
      "outputs": [
        {
          "output_type": "stream",
          "name": "stdout",
          "text": [
            "+------+-----+\n",
            "|gender|count|\n",
            "+------+-----+\n",
            "|Female| 2994|\n",
            "| Other|    1|\n",
            "|  Male| 2115|\n",
            "+------+-----+\n",
            "\n"
          ]
        }
      ]
    },
    {
      "cell_type": "code",
      "source": [
        "from pyspark.ml.feature import StringIndexer\n",
        "from pyspark.ml.feature import VectorAssembler"
      ],
      "metadata": {
        "id": "Rqs8kY3lQGxx"
      },
      "execution_count": 102,
      "outputs": []
    },
    {
      "cell_type": "code",
      "source": [
        "df.printSchema()"
      ],
      "metadata": {
        "colab": {
          "base_uri": "https://localhost:8080/"
        },
        "id": "diG7eGZRQ5T1",
        "outputId": "d274dc91-2ff8-4009-a506-af4e9ee408ea"
      },
      "execution_count": 100,
      "outputs": [
        {
          "output_type": "stream",
          "name": "stdout",
          "text": [
            "root\n",
            " |-- id: integer (nullable = true)\n",
            " |-- gender: string (nullable = true)\n",
            " |-- age: double (nullable = true)\n",
            " |-- hypertension: integer (nullable = true)\n",
            " |-- heart_disease: integer (nullable = true)\n",
            " |-- ever_married: string (nullable = true)\n",
            " |-- work_type: string (nullable = true)\n",
            " |-- Residence_type: string (nullable = true)\n",
            " |-- avg_glucose_level: double (nullable = true)\n",
            " |-- bmi: string (nullable = true)\n",
            " |-- smoking_status: string (nullable = true)\n",
            " |-- stroke: integer (nullable = true)\n",
            "\n"
          ]
        }
      ]
    },
    {
      "cell_type": "code",
      "source": [
        "indexer = StringIndexer(inputCol = \"gender\", outputCol = \"gender_up\")\n",
        "indexed = indexer.fit(df).transform(df)"
      ],
      "metadata": {
        "id": "rYXO-7-9Q8KA"
      },
      "execution_count": 101,
      "outputs": []
    },
    {
      "cell_type": "code",
      "source": [
        "indexer = StringIndexer(inputCol = \"ever_married\", outputCol = \"ever_married_up\")\n",
        "indexed = indexer.fit(indexed).transform(indexed)"
      ],
      "metadata": {
        "id": "S6qm19kpR5d-"
      },
      "execution_count": 104,
      "outputs": []
    },
    {
      "cell_type": "code",
      "source": [
        "indexer = StringIndexer(inputCol = \"work_type\", outputCol = \"work_type_up\")\n",
        "indexed = indexer.fit(indexed).transform(indexed)"
      ],
      "metadata": {
        "id": "tuGzQYURR5a7"
      },
      "execution_count": 105,
      "outputs": []
    },
    {
      "cell_type": "code",
      "source": [
        "indexer = StringIndexer(inputCol = \"Residence_type\", outputCol = \"Residence_type_up\")\n",
        "indexed = indexer.fit(indexed).transform(indexed)"
      ],
      "metadata": {
        "id": "-GuIzR2OR5YD"
      },
      "execution_count": 106,
      "outputs": []
    },
    {
      "cell_type": "code",
      "source": [
        "indexer = StringIndexer(inputCol = \"bmi\", outputCol = \"bmi_up\")\n",
        "indexed = indexer.fit(indexed).transform(indexed)"
      ],
      "metadata": {
        "id": "N-lW4fwTR-cX"
      },
      "execution_count": 107,
      "outputs": []
    },
    {
      "cell_type": "code",
      "source": [
        "indexer = StringIndexer(inputCol = \"smoking_status\", outputCol = \"smoking_status_up\")\n",
        "indexed = indexer.fit(indexed).transform(indexed)"
      ],
      "metadata": {
        "id": "_vwSX07PSDvu"
      },
      "execution_count": 108,
      "outputs": []
    },
    {
      "cell_type": "code",
      "source": [
        "indexed.show()"
      ],
      "metadata": {
        "colab": {
          "base_uri": "https://localhost:8080/"
        },
        "id": "Hf8YswctRuzn",
        "outputId": "a43ffcc2-063a-4b16-89a1-638e02953bb0"
      },
      "execution_count": 109,
      "outputs": [
        {
          "output_type": "stream",
          "name": "stdout",
          "text": [
            "+-----+------+----+------------+-------------+------------+-------------+--------------+-----------------+----+---------------+------+---------+---------------+------------+-----------------+------+-----------------+\n",
            "|   id|gender| age|hypertension|heart_disease|ever_married|    work_type|Residence_type|avg_glucose_level| bmi| smoking_status|stroke|gender_up|ever_married_up|work_type_up|Residence_type_up|bmi_up|smoking_status_up|\n",
            "+-----+------+----+------------+-------------+------------+-------------+--------------+-----------------+----+---------------+------+---------+---------------+------------+-----------------+------+-----------------+\n",
            "| 9046|  Male|67.0|           0|            1|         Yes|      Private|         Urban|           228.69|36.6|formerly smoked|     1|      1.0|            0.0|         0.0|              0.0| 155.0|              2.0|\n",
            "|51676|Female|61.0|           0|            0|         Yes|Self-employed|         Rural|           202.21| N/A|   never smoked|     1|      0.0|            0.0|         1.0|              1.0|   0.0|              0.0|\n",
            "|31112|  Male|80.0|           0|            1|         Yes|      Private|         Rural|           105.92|32.5|   never smoked|     1|      1.0|            0.0|         0.0|              1.0|  99.0|              0.0|\n",
            "|60182|Female|49.0|           0|            0|         Yes|      Private|         Urban|           171.23|34.4|         smokes|     1|      0.0|            0.0|         0.0|              0.0| 119.0|              3.0|\n",
            "| 1665|Female|79.0|           1|            0|         Yes|Self-employed|         Rural|           174.12|  24|   never smoked|     1|      0.0|            0.0|         1.0|              1.0|  28.0|              0.0|\n",
            "|56669|  Male|81.0|           0|            0|         Yes|      Private|         Urban|           186.21|  29|formerly smoked|     1|      1.0|            0.0|         0.0|              0.0|  50.0|              2.0|\n",
            "|53882|  Male|74.0|           1|            1|         Yes|      Private|         Rural|            70.09|27.4|   never smoked|     1|      1.0|            0.0|         0.0|              1.0|  86.0|              0.0|\n",
            "|10434|Female|69.0|           0|            0|          No|      Private|         Urban|            94.39|22.8|   never smoked|     1|      0.0|            1.0|         0.0|              0.0|  59.0|              0.0|\n",
            "|27419|Female|59.0|           0|            0|         Yes|      Private|         Rural|            76.15| N/A|        Unknown|     1|      0.0|            0.0|         0.0|              1.0|   0.0|              1.0|\n",
            "|60491|Female|78.0|           0|            0|         Yes|      Private|         Urban|            58.57|24.2|        Unknown|     1|      0.0|            0.0|         0.0|              0.0|  23.0|              1.0|\n",
            "|12109|Female|81.0|           1|            0|         Yes|      Private|         Rural|            80.43|29.7|   never smoked|     1|      0.0|            0.0|         0.0|              1.0|  42.0|              0.0|\n",
            "|12095|Female|61.0|           0|            1|         Yes|     Govt_job|         Rural|           120.46|36.8|         smokes|     1|      0.0|            0.0|         3.0|              1.0| 223.0|              3.0|\n",
            "|12175|Female|54.0|           0|            0|         Yes|      Private|         Urban|           104.51|27.3|         smokes|     1|      0.0|            0.0|         0.0|              0.0|   8.0|              3.0|\n",
            "| 8213|  Male|78.0|           0|            1|         Yes|      Private|         Urban|           219.84| N/A|        Unknown|     1|      1.0|            0.0|         0.0|              0.0|   0.0|              1.0|\n",
            "| 5317|Female|79.0|           0|            1|         Yes|      Private|         Urban|           214.09|28.2|   never smoked|     1|      0.0|            0.0|         0.0|              0.0|  61.0|              0.0|\n",
            "|58202|Female|50.0|           1|            0|         Yes|Self-employed|         Rural|           167.41|30.9|   never smoked|     1|      0.0|            0.0|         1.0|              1.0|  44.0|              0.0|\n",
            "|56112|  Male|64.0|           0|            1|         Yes|      Private|         Urban|           191.61|37.5|         smokes|     1|      1.0|            0.0|         0.0|              0.0| 210.0|              3.0|\n",
            "|34120|  Male|75.0|           1|            0|         Yes|      Private|         Urban|           221.29|25.8|         smokes|     1|      1.0|            0.0|         0.0|              0.0|  66.0|              3.0|\n",
            "|27458|Female|60.0|           0|            0|          No|      Private|         Urban|            89.22|37.8|   never smoked|     1|      0.0|            1.0|         0.0|              0.0| 197.0|              0.0|\n",
            "|25226|  Male|57.0|           0|            1|          No|     Govt_job|         Urban|           217.08| N/A|        Unknown|     1|      1.0|            1.0|         3.0|              0.0|   0.0|              1.0|\n",
            "+-----+------+----+------------+-------------+------------+-------------+--------------+-----------------+----+---------------+------+---------+---------------+------------+-----------------+------+-----------------+\n",
            "only showing top 20 rows\n",
            "\n"
          ]
        }
      ]
    },
    {
      "cell_type": "code",
      "source": [
        "\n",
        "assembler = VectorAssembler(inputCols=[\"gender_up\",\"age\", \"hypertension\", \"heart_disease\", \"ever_married_up\",   \"work_type_up\", \"Residence_type_up\" , \"avg_glucose_level\", \"bmi_up\", \"smoking_status_up\"],\n",
        "                            outputCol = \"features\")"
      ],
      "metadata": {
        "id": "xi4URS3cRyW_"
      },
      "execution_count": 110,
      "outputs": []
    },
    {
      "cell_type": "code",
      "source": [
        "assembler"
      ],
      "metadata": {
        "colab": {
          "base_uri": "https://localhost:8080/"
        },
        "id": "bpv3T3AwT7Gn",
        "outputId": "10ab5422-fc60-4aa9-f52b-1f0759e53c5e"
      },
      "execution_count": 111,
      "outputs": [
        {
          "output_type": "execute_result",
          "data": {
            "text/plain": [
              "VectorAssembler_57a7fadadf4b"
            ]
          },
          "metadata": {},
          "execution_count": 111
        }
      ]
    },
    {
      "cell_type": "code",
      "source": [
        "output = assembler.transform(indexed)"
      ],
      "metadata": {
        "id": "tn_rnVvQT-KL"
      },
      "execution_count": 112,
      "outputs": []
    },
    {
      "cell_type": "code",
      "source": [
        "output.show()"
      ],
      "metadata": {
        "colab": {
          "base_uri": "https://localhost:8080/"
        },
        "id": "GeMaZ-bkUUTW",
        "outputId": "7722fb3f-d36e-4be7-822f-39cd2a671665"
      },
      "execution_count": 113,
      "outputs": [
        {
          "output_type": "stream",
          "name": "stdout",
          "text": [
            "+-----+------+----+------------+-------------+------------+-------------+--------------+-----------------+----+---------------+------+---------+---------------+------------+-----------------+------+-----------------+--------------------+\n",
            "|   id|gender| age|hypertension|heart_disease|ever_married|    work_type|Residence_type|avg_glucose_level| bmi| smoking_status|stroke|gender_up|ever_married_up|work_type_up|Residence_type_up|bmi_up|smoking_status_up|            features|\n",
            "+-----+------+----+------------+-------------+------------+-------------+--------------+-----------------+----+---------------+------+---------+---------------+------------+-----------------+------+-----------------+--------------------+\n",
            "| 9046|  Male|67.0|           0|            1|         Yes|      Private|         Urban|           228.69|36.6|formerly smoked|     1|      1.0|            0.0|         0.0|              0.0| 155.0|              2.0|[1.0,67.0,0.0,1.0...|\n",
            "|51676|Female|61.0|           0|            0|         Yes|Self-employed|         Rural|           202.21| N/A|   never smoked|     1|      0.0|            0.0|         1.0|              1.0|   0.0|              0.0|(10,[1,5,6,7],[61...|\n",
            "|31112|  Male|80.0|           0|            1|         Yes|      Private|         Rural|           105.92|32.5|   never smoked|     1|      1.0|            0.0|         0.0|              1.0|  99.0|              0.0|[1.0,80.0,0.0,1.0...|\n",
            "|60182|Female|49.0|           0|            0|         Yes|      Private|         Urban|           171.23|34.4|         smokes|     1|      0.0|            0.0|         0.0|              0.0| 119.0|              3.0|(10,[1,7,8,9],[49...|\n",
            "| 1665|Female|79.0|           1|            0|         Yes|Self-employed|         Rural|           174.12|  24|   never smoked|     1|      0.0|            0.0|         1.0|              1.0|  28.0|              0.0|[0.0,79.0,1.0,0.0...|\n",
            "|56669|  Male|81.0|           0|            0|         Yes|      Private|         Urban|           186.21|  29|formerly smoked|     1|      1.0|            0.0|         0.0|              0.0|  50.0|              2.0|(10,[0,1,7,8,9],[...|\n",
            "|53882|  Male|74.0|           1|            1|         Yes|      Private|         Rural|            70.09|27.4|   never smoked|     1|      1.0|            0.0|         0.0|              1.0|  86.0|              0.0|[1.0,74.0,1.0,1.0...|\n",
            "|10434|Female|69.0|           0|            0|          No|      Private|         Urban|            94.39|22.8|   never smoked|     1|      0.0|            1.0|         0.0|              0.0|  59.0|              0.0|(10,[1,4,7,8],[69...|\n",
            "|27419|Female|59.0|           0|            0|         Yes|      Private|         Rural|            76.15| N/A|        Unknown|     1|      0.0|            0.0|         0.0|              1.0|   0.0|              1.0|(10,[1,6,7,9],[59...|\n",
            "|60491|Female|78.0|           0|            0|         Yes|      Private|         Urban|            58.57|24.2|        Unknown|     1|      0.0|            0.0|         0.0|              0.0|  23.0|              1.0|(10,[1,7,8,9],[78...|\n",
            "|12109|Female|81.0|           1|            0|         Yes|      Private|         Rural|            80.43|29.7|   never smoked|     1|      0.0|            0.0|         0.0|              1.0|  42.0|              0.0|(10,[1,2,6,7,8],[...|\n",
            "|12095|Female|61.0|           0|            1|         Yes|     Govt_job|         Rural|           120.46|36.8|         smokes|     1|      0.0|            0.0|         3.0|              1.0| 223.0|              3.0|[0.0,61.0,0.0,1.0...|\n",
            "|12175|Female|54.0|           0|            0|         Yes|      Private|         Urban|           104.51|27.3|         smokes|     1|      0.0|            0.0|         0.0|              0.0|   8.0|              3.0|(10,[1,7,8,9],[54...|\n",
            "| 8213|  Male|78.0|           0|            1|         Yes|      Private|         Urban|           219.84| N/A|        Unknown|     1|      1.0|            0.0|         0.0|              0.0|   0.0|              1.0|(10,[0,1,3,7,9],[...|\n",
            "| 5317|Female|79.0|           0|            1|         Yes|      Private|         Urban|           214.09|28.2|   never smoked|     1|      0.0|            0.0|         0.0|              0.0|  61.0|              0.0|(10,[1,3,7,8],[79...|\n",
            "|58202|Female|50.0|           1|            0|         Yes|Self-employed|         Rural|           167.41|30.9|   never smoked|     1|      0.0|            0.0|         1.0|              1.0|  44.0|              0.0|[0.0,50.0,1.0,0.0...|\n",
            "|56112|  Male|64.0|           0|            1|         Yes|      Private|         Urban|           191.61|37.5|         smokes|     1|      1.0|            0.0|         0.0|              0.0| 210.0|              3.0|[1.0,64.0,0.0,1.0...|\n",
            "|34120|  Male|75.0|           1|            0|         Yes|      Private|         Urban|           221.29|25.8|         smokes|     1|      1.0|            0.0|         0.0|              0.0|  66.0|              3.0|[1.0,75.0,1.0,0.0...|\n",
            "|27458|Female|60.0|           0|            0|          No|      Private|         Urban|            89.22|37.8|   never smoked|     1|      0.0|            1.0|         0.0|              0.0| 197.0|              0.0|(10,[1,4,7,8],[60...|\n",
            "|25226|  Male|57.0|           0|            1|          No|     Govt_job|         Urban|           217.08| N/A|        Unknown|     1|      1.0|            1.0|         3.0|              0.0|   0.0|              1.0|[1.0,57.0,0.0,1.0...|\n",
            "+-----+------+----+------------+-------------+------------+-------------+--------------+-----------------+----+---------------+------+---------+---------------+------------+-----------------+------+-----------------+--------------------+\n",
            "only showing top 20 rows\n",
            "\n"
          ]
        }
      ]
    },
    {
      "cell_type": "code",
      "source": [
        "output.select(\"features\", \"stroke\").show(truncate= False)"
      ],
      "metadata": {
        "colab": {
          "base_uri": "https://localhost:8080/"
        },
        "id": "e3IBCocyUbai",
        "outputId": "dcbfeeb6-d259-4846-fe31-8b661bd2488c"
      },
      "execution_count": 114,
      "outputs": [
        {
          "output_type": "stream",
          "name": "stdout",
          "text": [
            "+-----------------------------------------------+------+\n",
            "|features                                       |stroke|\n",
            "+-----------------------------------------------+------+\n",
            "|[1.0,67.0,0.0,1.0,0.0,0.0,0.0,228.69,155.0,2.0]|1     |\n",
            "|(10,[1,5,6,7],[61.0,1.0,1.0,202.21])           |1     |\n",
            "|[1.0,80.0,0.0,1.0,0.0,0.0,1.0,105.92,99.0,0.0] |1     |\n",
            "|(10,[1,7,8,9],[49.0,171.23,119.0,3.0])         |1     |\n",
            "|[0.0,79.0,1.0,0.0,0.0,1.0,1.0,174.12,28.0,0.0] |1     |\n",
            "|(10,[0,1,7,8,9],[1.0,81.0,186.21,50.0,2.0])    |1     |\n",
            "|[1.0,74.0,1.0,1.0,0.0,0.0,1.0,70.09,86.0,0.0]  |1     |\n",
            "|(10,[1,4,7,8],[69.0,1.0,94.39,59.0])           |1     |\n",
            "|(10,[1,6,7,9],[59.0,1.0,76.15,1.0])            |1     |\n",
            "|(10,[1,7,8,9],[78.0,58.57,23.0,1.0])           |1     |\n",
            "|(10,[1,2,6,7,8],[81.0,1.0,1.0,80.43,42.0])     |1     |\n",
            "|[0.0,61.0,0.0,1.0,0.0,3.0,1.0,120.46,223.0,3.0]|1     |\n",
            "|(10,[1,7,8,9],[54.0,104.51,8.0,3.0])           |1     |\n",
            "|(10,[0,1,3,7,9],[1.0,78.0,1.0,219.84,1.0])     |1     |\n",
            "|(10,[1,3,7,8],[79.0,1.0,214.09,61.0])          |1     |\n",
            "|[0.0,50.0,1.0,0.0,0.0,1.0,1.0,167.41,44.0,0.0] |1     |\n",
            "|[1.0,64.0,0.0,1.0,0.0,0.0,0.0,191.61,210.0,3.0]|1     |\n",
            "|[1.0,75.0,1.0,0.0,0.0,0.0,0.0,221.29,66.0,3.0] |1     |\n",
            "|(10,[1,4,7,8],[60.0,1.0,89.22,197.0])          |1     |\n",
            "|[1.0,57.0,0.0,1.0,1.0,3.0,0.0,217.08,0.0,1.0]  |1     |\n",
            "+-----------------------------------------------+------+\n",
            "only showing top 20 rows\n",
            "\n"
          ]
        }
      ]
    },
    {
      "cell_type": "code",
      "source": [
        "model_df = output.select(\"features\",\"stroke\")"
      ],
      "metadata": {
        "id": "4tPs8dnIUwRy"
      },
      "execution_count": 115,
      "outputs": []
    },
    {
      "cell_type": "code",
      "source": [
        "model_df.show()"
      ],
      "metadata": {
        "colab": {
          "base_uri": "https://localhost:8080/"
        },
        "id": "HUh34-HmU81n",
        "outputId": "15ce3b86-12c7-4293-bd6b-cff1ed03e10d"
      },
      "execution_count": 116,
      "outputs": [
        {
          "output_type": "stream",
          "name": "stdout",
          "text": [
            "+--------------------+------+\n",
            "|            features|stroke|\n",
            "+--------------------+------+\n",
            "|[1.0,67.0,0.0,1.0...|     1|\n",
            "|(10,[1,5,6,7],[61...|     1|\n",
            "|[1.0,80.0,0.0,1.0...|     1|\n",
            "|(10,[1,7,8,9],[49...|     1|\n",
            "|[0.0,79.0,1.0,0.0...|     1|\n",
            "|(10,[0,1,7,8,9],[...|     1|\n",
            "|[1.0,74.0,1.0,1.0...|     1|\n",
            "|(10,[1,4,7,8],[69...|     1|\n",
            "|(10,[1,6,7,9],[59...|     1|\n",
            "|(10,[1,7,8,9],[78...|     1|\n",
            "|(10,[1,2,6,7,8],[...|     1|\n",
            "|[0.0,61.0,0.0,1.0...|     1|\n",
            "|(10,[1,7,8,9],[54...|     1|\n",
            "|(10,[0,1,3,7,9],[...|     1|\n",
            "|(10,[1,3,7,8],[79...|     1|\n",
            "|[0.0,50.0,1.0,0.0...|     1|\n",
            "|[1.0,64.0,0.0,1.0...|     1|\n",
            "|[1.0,75.0,1.0,0.0...|     1|\n",
            "|(10,[1,4,7,8],[60...|     1|\n",
            "|[1.0,57.0,0.0,1.0...|     1|\n",
            "+--------------------+------+\n",
            "only showing top 20 rows\n",
            "\n"
          ]
        }
      ]
    },
    {
      "cell_type": "code",
      "source": [
        "training_df, test_df = model_df.randomSplit([0.8, 0.2])"
      ],
      "metadata": {
        "id": "D4khMqngVA29"
      },
      "execution_count": 120,
      "outputs": []
    },
    {
      "cell_type": "code",
      "source": [
        "print(training_df.count())"
      ],
      "metadata": {
        "colab": {
          "base_uri": "https://localhost:8080/"
        },
        "id": "1bfochZjVRWR",
        "outputId": "f0509ade-a7ee-4455-86bf-818f4a344768"
      },
      "execution_count": 121,
      "outputs": [
        {
          "output_type": "stream",
          "name": "stdout",
          "text": [
            "4119\n"
          ]
        }
      ]
    },
    {
      "cell_type": "code",
      "source": [
        "print(test_df.count())"
      ],
      "metadata": {
        "colab": {
          "base_uri": "https://localhost:8080/"
        },
        "id": "B6y8NhFNVhTE",
        "outputId": "14366142-f11d-49d4-c444-22af96f7e73c"
      },
      "execution_count": 122,
      "outputs": [
        {
          "output_type": "stream",
          "name": "stdout",
          "text": [
            "991\n"
          ]
        }
      ]
    },
    {
      "cell_type": "code",
      "source": [
        "from pyspark.ml.classification import LogisticRegression"
      ],
      "metadata": {
        "id": "OramRoClVlfD"
      },
      "execution_count": 123,
      "outputs": []
    },
    {
      "cell_type": "code",
      "source": [
        "log_reg"
      ],
      "metadata": {
        "colab": {
          "base_uri": "https://localhost:8080/"
        },
        "id": "2W1HGqKUVsP9",
        "outputId": "0c5e2381-6710-4a87-93d6-569c59c69638"
      },
      "execution_count": 124,
      "outputs": [
        {
          "output_type": "execute_result",
          "data": {
            "text/plain": [
              "LogisticRegressionModel: uid=LogisticRegression_c7db12a9bd5b, numClasses=2, numFeatures=10"
            ]
          },
          "metadata": {},
          "execution_count": 124
        }
      ]
    },
    {
      "cell_type": "code",
      "source": [
        "train_results = log_reg.evaluate(training_df).predictions"
      ],
      "metadata": {
        "id": "JEzvn_ofV_uZ"
      },
      "execution_count": 125,
      "outputs": []
    },
    {
      "cell_type": "code",
      "source": [
        "train_results.show()"
      ],
      "metadata": {
        "colab": {
          "base_uri": "https://localhost:8080/"
        },
        "id": "KD-79iuRWMeg",
        "outputId": "82ff3d30-6ff1-4a07-ff15-2bbd6ae4aa21"
      },
      "execution_count": 126,
      "outputs": [
        {
          "output_type": "stream",
          "name": "stdout",
          "text": [
            "+--------------------+------+--------------------+--------------------+----------+\n",
            "|            features|stroke|       rawPrediction|         probability|prediction|\n",
            "+--------------------+------+--------------------+--------------------+----------+\n",
            "|(10,[0,1,2,5,7],[...|     0|[4.75333801103636...|[0.99145085422500...|       0.0|\n",
            "|(10,[0,1,2,6,7],[...|     1|[1.13941893410074...|[0.75757293863208...|       0.0|\n",
            "|(10,[0,1,2,7,8],[...|     0|[4.96633210974834...|[0.99307956466982...|       0.0|\n",
            "|(10,[0,1,2,7,8],[...|     0|[3.83336353340501...|[0.97882151560014...|       0.0|\n",
            "|(10,[0,1,2,7,8],[...|     0|[4.09490384162854...|[0.98361557314964...|       0.0|\n",
            "|(10,[0,1,2,7,8],[...|     0|[3.72579402916739...|[0.97647289953218...|       0.0|\n",
            "|(10,[0,1,2,7,8],[...|     0|[3.59903744165459...|[0.97337807481998...|       0.0|\n",
            "|(10,[0,1,2,7,8],[...|     0|[2.88175342876386...|[0.94693703771258...|       0.0|\n",
            "|(10,[0,1,2,7,8],[...|     0|[3.02015678140512...|[0.95347648065887...|       0.0|\n",
            "|(10,[0,1,2,7,8],[...|     0|[3.02004559779224...|[0.95347154840725...|       0.0|\n",
            "|(10,[0,1,2,7,8],[...|     0|[2.21861629403913...|[0.90190884829540...|       0.0|\n",
            "|(10,[0,1,2,7,8],[...|     0|[2.08063198733141...|[0.88900640934795...|       0.0|\n",
            "|(10,[0,1,2,7,8],[...|     0|[2.28157715625628...|[0.90733973047397...|       0.0|\n",
            "|(10,[0,1,2,7,8],[...|     0|[1.54708836265082...|[0.82449280303299...|       0.0|\n",
            "|(10,[0,1,2,7,8],[...|     1|[0.32430375752269...|[0.58037275126885...|       0.0|\n",
            "|(10,[0,1,2,7,8],[...|     0|[0.84743488467727...|[0.70002877431231...|       0.0|\n",
            "|(10,[0,1,2,7,9],[...|     0|[4.49723039179602...|[0.98898292137425...|       0.0|\n",
            "|(10,[0,1,2,7,9],[...|     1|[0.94880843761179...|[0.72087548207616...|       0.0|\n",
            "|(10,[0,1,3,5,7],[...|     0|[1.67268402194923...|[0.84193334296424...|       0.0|\n",
            "|(10,[0,1,3,6,7],[...|     0|[1.33367447783094...|[0.79144778696494...|       0.0|\n",
            "+--------------------+------+--------------------+--------------------+----------+\n",
            "only showing top 20 rows\n",
            "\n"
          ]
        }
      ]
    },
    {
      "cell_type": "code",
      "source": [
        "results = log_reg.evaluate(test_df).predictions"
      ],
      "metadata": {
        "id": "jPJQ3DFtWdr8"
      },
      "execution_count": 127,
      "outputs": []
    },
    {
      "cell_type": "code",
      "source": [
        "results.show()"
      ],
      "metadata": {
        "colab": {
          "base_uri": "https://localhost:8080/"
        },
        "id": "khREw7ifWo2E",
        "outputId": "ec401cfc-25ec-4991-af13-7472162c53a7"
      },
      "execution_count": 128,
      "outputs": [
        {
          "output_type": "stream",
          "name": "stdout",
          "text": [
            "+--------------------+------+--------------------+--------------------+----------+\n",
            "|            features|stroke|       rawPrediction|         probability|prediction|\n",
            "+--------------------+------+--------------------+--------------------+----------+\n",
            "|(10,[0,1,2,7,8],[...|     0|[3.94168027995710...|[0.98095422080095...|       0.0|\n",
            "|(10,[0,1,2,7,8],[...|     0|[3.80467194426990...|[0.97821849722395...|       0.0|\n",
            "|(10,[0,1,2,7,8],[...|     0|[2.98945001580435...|[0.95209523166136...|       0.0|\n",
            "|(10,[0,1,3,5,7],[...|     0|[2.54649326690379...|[0.92733757566770...|       0.0|\n",
            "|(10,[0,1,3,7,8],[...|     0|[3.13502356520881...|[0.95831453593406...|       0.0|\n",
            "|(10,[0,1,3,7,8],[...|     0|[1.91619375416141...|[0.87171338629596...|       0.0|\n",
            "|(10,[0,1,3,7,9],[...|     1|[1.92708065945725...|[0.87292594080106...|       0.0|\n",
            "|(10,[0,1,3,7,9],[...|     0|[1.10326944568710...|[0.75087219987168...|       0.0|\n",
            "|(10,[0,1,4,7,8],[...|     0|[6.45014496010363...|[0.99842220031323...|       0.0|\n",
            "|(10,[0,1,4,7,8],[...|     0|[5.92112969910397...|[0.99732500636193...|       0.0|\n",
            "|(10,[0,1,4,7,8],[...|     0|[6.03124434137549...|[0.99760325560013...|       0.0|\n",
            "|(10,[0,1,4,7,8],[...|     0|[5.32368253021217...|[0.9951488789487,...|       0.0|\n",
            "|(10,[0,1,4,7,8],[...|     0|[5.60195822013024...|[0.99632294109168...|       0.0|\n",
            "|(10,[0,1,4,7,8],[...|     0|[4.96923031903883...|[0.99309945430036...|       0.0|\n",
            "|(10,[0,1,4,7,8],[...|     0|[4.63872152243096...|[0.99042256165976...|       0.0|\n",
            "|(10,[0,1,4,7,8],[...|     0|[4.62764877875302...|[0.99031695642148...|       0.0|\n",
            "|(10,[0,1,5,7,8],[...|     0|[5.70486761567732...|[0.99668133207042...|       0.0|\n",
            "|(10,[0,1,5,7,8],[...|     0|[4.54919273677199...|[0.98953493742010...|       0.0|\n",
            "|(10,[0,1,5,7,8],[...|     0|[4.01309893495493...|[0.98224369778340...|       0.0|\n",
            "|(10,[0,1,5,7,8],[...|     0|[4.38826073293389...|[0.98773010435537...|       0.0|\n",
            "+--------------------+------+--------------------+--------------------+----------+\n",
            "only showing top 20 rows\n",
            "\n"
          ]
        }
      ]
    },
    {
      "cell_type": "code",
      "source": [
        "results.select([\"stroke\", \"prediction\"]).show(10)"
      ],
      "metadata": {
        "colab": {
          "base_uri": "https://localhost:8080/"
        },
        "id": "XhVKpiT9XirP",
        "outputId": "5725dec4-2b9b-4d06-c7d3-7b6844cf4318"
      },
      "execution_count": 129,
      "outputs": [
        {
          "output_type": "stream",
          "name": "stdout",
          "text": [
            "+------+----------+\n",
            "|stroke|prediction|\n",
            "+------+----------+\n",
            "|     0|       0.0|\n",
            "|     0|       0.0|\n",
            "|     0|       0.0|\n",
            "|     0|       0.0|\n",
            "|     0|       0.0|\n",
            "|     0|       0.0|\n",
            "|     1|       0.0|\n",
            "|     0|       0.0|\n",
            "|     0|       0.0|\n",
            "|     0|       0.0|\n",
            "+------+----------+\n",
            "only showing top 10 rows\n",
            "\n"
          ]
        }
      ]
    },
    {
      "cell_type": "code",
      "source": [
        "tp = results[(results.stroke==1) & (results.prediction==1)].count()\n",
        "tp"
      ],
      "metadata": {
        "colab": {
          "base_uri": "https://localhost:8080/"
        },
        "id": "aNyPw-2JX2Ef",
        "outputId": "11f08268-ae8e-4937-a264-d84b6b910acf"
      },
      "execution_count": 130,
      "outputs": [
        {
          "output_type": "execute_result",
          "data": {
            "text/plain": [
              "1"
            ]
          },
          "metadata": {},
          "execution_count": 130
        }
      ]
    },
    {
      "cell_type": "code",
      "source": [
        "tn = results[(results.stroke==0) & (results.prediction==0)].count()\n",
        "tn"
      ],
      "metadata": {
        "colab": {
          "base_uri": "https://localhost:8080/"
        },
        "id": "x4n-8Jb3YL9w",
        "outputId": "22c81ebd-45c9-46ae-c91e-925559e67914"
      },
      "execution_count": 131,
      "outputs": [
        {
          "output_type": "execute_result",
          "data": {
            "text/plain": [
              "940"
            ]
          },
          "metadata": {},
          "execution_count": 131
        }
      ]
    },
    {
      "cell_type": "code",
      "source": [
        "fp = results[(results.stroke==0) & (results.prediction==1)].count()\n",
        "fp"
      ],
      "metadata": {
        "colab": {
          "base_uri": "https://localhost:8080/"
        },
        "id": "5aK5ddV4YVO2",
        "outputId": "8b27fa13-b9ef-4e3e-d206-c9e6cf29b0a6"
      },
      "execution_count": 132,
      "outputs": [
        {
          "output_type": "execute_result",
          "data": {
            "text/plain": [
              "0"
            ]
          },
          "metadata": {},
          "execution_count": 132
        }
      ]
    },
    {
      "cell_type": "code",
      "source": [
        "fn = results[(results.stroke==1) & (results.prediction==0)].count()\n",
        "fn"
      ],
      "metadata": {
        "colab": {
          "base_uri": "https://localhost:8080/"
        },
        "id": "-A7e19zxYa5D",
        "outputId": "0125ce34-b876-408f-d1d4-f652d863ec8b"
      },
      "execution_count": 133,
      "outputs": [
        {
          "output_type": "execute_result",
          "data": {
            "text/plain": [
              "50"
            ]
          },
          "metadata": {},
          "execution_count": 133
        }
      ]
    },
    {
      "cell_type": "code",
      "source": [
        "accuracy = float((tp+tn)/ results.count())\n",
        "print(accuracy)"
      ],
      "metadata": {
        "colab": {
          "base_uri": "https://localhost:8080/"
        },
        "id": "HFWHcnoAYhOT",
        "outputId": "635e809e-5bb8-462d-976e-4d12329add6e"
      },
      "execution_count": 134,
      "outputs": [
        {
          "output_type": "stream",
          "name": "stdout",
          "text": [
            "0.9495459132189707\n"
          ]
        }
      ]
    },
    {
      "cell_type": "code",
      "source": [
        "recall = float(tn)/ (tp+tn)\n",
        "print(recall)"
      ],
      "metadata": {
        "colab": {
          "base_uri": "https://localhost:8080/"
        },
        "id": "xkvR2059YrRr",
        "outputId": "4e80f642-d0fe-46b0-de73-1eb7e98b8d8b"
      },
      "execution_count": 135,
      "outputs": [
        {
          "output_type": "stream",
          "name": "stdout",
          "text": [
            "0.9989373007438895\n"
          ]
        }
      ]
    }
  ],
  "metadata": {
    "colab": {
      "provenance": []
    },
    "kernelspec": {
      "display_name": "Python 3",
      "name": "python3"
    },
    "language_info": {
      "name": "python"
    }
  },
  "nbformat": 4,
  "nbformat_minor": 0
}